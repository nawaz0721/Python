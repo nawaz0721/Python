{
 "cells": [
  {
   "cell_type": "markdown",
   "id": "626e3cd5-f96c-4829-9f28-c926537cb187",
   "metadata": {},
   "source": [
    "### Task"
   ]
  },
  {
   "cell_type": "markdown",
   "id": "625a201e-05b1-4f51-943a-73892a365c02",
   "metadata": {},
   "source": [
    "- Take 2 number and operator as input\n",
    "- Perform calculator based on user input"
   ]
  },
  {
   "cell_type": "code",
   "execution_count": 2,
   "id": "a34e042f-a681-4037-9273-19842ff7be90",
   "metadata": {},
   "outputs": [],
   "source": [
    "def cal():\n",
    "    num1 = int(input(\"Enter Your First Number\"))\n",
    "    num2 = int(input(\"Enter Your Second Number\"))\n",
    "    operator = input(\"Select Operator +,-,*,/\")\n",
    "\n",
    "    if operator == \"+\":\n",
    "        result = num1+num2\n",
    "        print(result)\n",
    "    elif operator == \"-\":\n",
    "        result = num1-num2\n",
    "        print(result)\n",
    "    elif operator == \"*\":\n",
    "        result = num1*num2\n",
    "        print(result)\n",
    "    elif operator == \"/\":\n",
    "        result = num1/num2\n",
    "        print(result)\n",
    "    else:\n",
    "        print(\"Invaild Operator\")"
   ]
  },
  {
   "cell_type": "code",
   "execution_count": 3,
   "id": "6e27bd8f-07b5-4dea-9759-77cdb4517618",
   "metadata": {},
   "outputs": [
    {
     "name": "stdin",
     "output_type": "stream",
     "text": [
      "Enter Your First Number 5\n",
      "Enter Your Second Number 5\n",
      "Select Operator +,-,*,/ +\n"
     ]
    },
    {
     "name": "stdout",
     "output_type": "stream",
     "text": [
      "10\n"
     ]
    }
   ],
   "source": [
    "cal()"
   ]
  },
  {
   "cell_type": "markdown",
   "id": "0ebc04f9-2af3-4d13-a68b-ae81a7348a17",
   "metadata": {},
   "source": [
    "### Task2:"
   ]
  },
  {
   "cell_type": "markdown",
   "id": "23669ee4-ef5a-4e17-b6e8-a4046e6636f6",
   "metadata": {},
   "source": [
    "- 1. Create a function a to register a user with his name , email, and password\n",
    "     save name, email, password in a list\n",
    "- 2. Create another function to login a user with his email password you saved as the registration time, if the crediential match tha data you saved,\n",
    "print his name and a login message if not print a message that you are not a registered user pleaseregister and the register function"
   ]
  },
  {
   "cell_type": "code",
   "execution_count": null,
   "id": "1f035ade-c30c-4336-93e4-3e14d1f04def",
   "metadata": {},
   "outputs": [],
   "source": [
    "list=[]\n",
    "def register(name,email,password):\n",
    "    list.append(name)\n",
    "    list.append(email)\n",
    "    list.append(password)\n",
    "    "
   ]
  }
 ],
 "metadata": {
  "kernelspec": {
   "display_name": "Python 3 (ipykernel)",
   "language": "python",
   "name": "python3"
  },
  "language_info": {
   "codemirror_mode": {
    "name": "ipython",
    "version": 3
   },
   "file_extension": ".py",
   "mimetype": "text/x-python",
   "name": "python",
   "nbconvert_exporter": "python",
   "pygments_lexer": "ipython3",
   "version": "3.13.5"
  }
 },
 "nbformat": 4,
 "nbformat_minor": 5
}
