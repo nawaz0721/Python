{
 "cells": [
  {
   "cell_type": "markdown",
   "id": "816dbfb3-d03f-4115-a08a-a95da977d95d",
   "metadata": {},
   "source": [
    "### Part -1 Python Basics (Variables)"
   ]
  },
  {
   "cell_type": "markdown",
   "id": "68e6689b-db27-4d62-9c20-fb17a3645de6",
   "metadata": {},
   "source": [
    "1. Print Your Name with your Father name and Date of birth using suitable escape sequence charactor\n"
   ]
  },
  {
   "cell_type": "code",
   "execution_count": 5,
   "id": "77faf51d-103c-4578-a614-0ef71fbf7c2b",
   "metadata": {},
   "outputs": [
    {
     "name": "stdout",
     "output_type": "stream",
     "text": [
      "Name: Ahmed Nawaz Gondal  Father Name: Tauseef Ahmed Gonal  Date of Birth: 31-01-2002\n"
     ]
    }
   ],
   "source": [
    "name = \"Ahmed Nawaz Gondal\"\n",
    "Father_name = \"Tauseef Ahmed Gonal\"\n",
    "Date_of_Birth = \"31-01-2002\"\n",
    "\n",
    "print(\"Name:\", name , \" Father Name:\", Father_name , \" Date of Birth:\" , Date_of_Birth )"
   ]
  },
  {
   "cell_type": "markdown",
   "id": "cbb1f7ee-a4d4-4b38-a64a-8a78a5c267a3",
   "metadata": {},
   "source": [
    "2. Write your small bio using variables and print it using print function"
   ]
  },
  {
   "cell_type": "code",
   "execution_count": 7,
   "id": "c3a70758-54cd-432f-8bfa-298263fac392",
   "metadata": {},
   "outputs": [
    {
     "name": "stdout",
     "output_type": "stream",
     "text": [
      "Ahmed Nawaz Gondal Tauseef Ahmed Gonal 31-01-2002 CDE\n"
     ]
    }
   ],
   "source": [
    "name = \"Ahmed Nawaz Gondal\"\n",
    "Father_name = \"Tauseef Ahmed Gonal\"\n",
    "Date_of_Birth = \"31-01-2002\"\n",
    "Course = \"CDE\"\n",
    "\n",
    "print(name , Father_name, Date_of_Birth , Course )"
   ]
  },
  {
   "cell_type": "markdown",
   "id": "3632395a-4ec8-42d8-a327-0ba0c5d937b6",
   "metadata": {},
   "source": [
    "3. Write a program in which use all the operators we can use in Python"
   ]
  },
  {
   "cell_type": "code",
   "execution_count": 8,
   "id": "45867a86-8a75-4d3b-b7a0-90d971ab4e33",
   "metadata": {},
   "outputs": [
    {
     "name": "stdout",
     "output_type": "stream",
     "text": [
      "50\n",
      "-10\n",
      "600\n",
      "0.6666666666666666\n"
     ]
    }
   ],
   "source": [
    "x = 20\n",
    "y = 30 \n",
    "\n",
    "print(x+y)\n",
    "print(x-y)\n",
    "print(x*y)\n",
    "print(x/y)"
   ]
  },
  {
   "cell_type": "markdown",
   "id": "f1ad13ce-d5ba-40ad-a574-59f0c092d970",
   "metadata": {},
   "source": [
    "4. Completes the following steps of small task:   \n",
    ". Mention Marks of English , Islamiat and Maths out of 100 in 3 different variables   \n",
    ". Mention Variable of Total Marks and assign 300 to it      \n",
    ". Calculate Percentage"
   ]
  },
  {
   "cell_type": "code",
   "execution_count": 10,
   "id": "3675261b-1214-47e7-9efa-c661aa0f1987",
   "metadata": {},
   "outputs": [
    {
     "name": "stdout",
     "output_type": "stream",
     "text": [
      "93.33333333333333\n"
     ]
    }
   ],
   "source": [
    "MarksOfEnglish = 86\n",
    "MakrsOfIslamiat = 96\n",
    "MakrsOfMaths = 98\n",
    "TotalMarks = 300\n",
    "\n",
    "print(((MarksOfEnglish+MakrsOfIslamiat+MakrsOfMaths)*100)/TotalMarks)"
   ]
  },
  {
   "cell_type": "markdown",
   "id": "3b21aba9-d129-4a1c-a521-087431c4fa05",
   "metadata": {},
   "source": [
    "### Part -2 Python Basics (Conditional Statements)"
   ]
  },
  {
   "cell_type": "markdown",
   "id": "83937adc-40b5-48ee-9db3-7407c9737bf4",
   "metadata": {},
   "source": [
    "1. A company decided to give bonus of 5% to employee if his/her year of service is more than 5 years. Ask user for their salary and year of service and print the net bonus amount."
   ]
  },
  {
   "cell_type": "code",
   "execution_count": 19,
   "id": "9320548f-0e15-4f7f-a2d5-c7f577767524",
   "metadata": {},
   "outputs": [
    {
     "name": "stdin",
     "output_type": "stream",
     "text": [
      "Enter your Salary: 30000\n",
      "Enter your Year of Service: 6\n"
     ]
    },
    {
     "name": "stdout",
     "output_type": "stream",
     "text": [
      "Congratulatios Ahmed Nawaz Gondal Your Net Bonus is: 1500.0\n"
     ]
    }
   ],
   "source": [
    "salary = int(input(\"Enter your Salary:\"))\n",
    "year = int(input(\"Enter your Year of Service:\"))\n",
    "\n",
    "if year > 5:\n",
    "    print(\"Congratulatios\", name , \"Your Net Bonus is:\" , (5*salary)/100)\n",
    "else:\n",
    "    print(\"No bonus. Service must be more than 5 years.\")"
   ]
  },
  {
   "cell_type": "markdown",
   "id": "2c0a5474-26cf-4981-ae71-299d6520e19d",
   "metadata": {},
   "source": [
    "2. Write a program to check whether a person is eligible for voting or not. (accept age from user) if age is greater than 17 eligible otherwise not eligible"
   ]
  },
  {
   "cell_type": "code",
   "execution_count": 31,
   "id": "d670263c-a9b6-4048-9df9-a99230ab45a2",
   "metadata": {},
   "outputs": [
    {
     "name": "stdin",
     "output_type": "stream",
     "text": [
      "Enter your age is: 23\n"
     ]
    },
    {
     "name": "stdout",
     "output_type": "stream",
     "text": [
      "Your are eligible for voting\n"
     ]
    }
   ],
   "source": [
    "age = int(input(\"Enter your age is:\"))\n",
    "if age > 17: \n",
    "    print(\"Your are eligible for voting\") \n",
    "else:\n",
    "    print(\"You are not eligible for voting\")"
   ]
  },
  {
   "cell_type": "markdown",
   "id": "711c50da-5602-4197-a7b4-11ce8dac7d61",
   "metadata": {},
   "source": [
    "3. Write a program to check whether a number entered by user is even or odd."
   ]
  },
  {
   "cell_type": "code",
   "execution_count": 39,
   "id": "f412facc-8e88-4f5e-bbfc-9b1862b9573a",
   "metadata": {},
   "outputs": [
    {
     "name": "stdout",
     "output_type": "stream",
     "text": [
      "To check Number is even or odd\n"
     ]
    },
    {
     "name": "stdin",
     "output_type": "stream",
     "text": [
      "Enter your Number 23\n"
     ]
    },
    {
     "name": "stdout",
     "output_type": "stream",
     "text": [
      "23 number is odd\n"
     ]
    }
   ],
   "source": [
    "print(\"To check Number is even or odd\")\n",
    "number = int(input(\"Enter your Number\"))\n",
    "\n",
    "if number % 2 == 0: \n",
    "    print(number , \"Number is Even\")\n",
    "else:\n",
    "    print(number, \"number is odd\")"
   ]
  },
  {
   "cell_type": "markdown",
   "id": "684a571b-0b15-4dad-a264-70fc2b3460a1",
   "metadata": {},
   "source": [
    "4. Write a program to check whether a number is divisible by 7 or not. Show Answer"
   ]
  },
  {
   "cell_type": "code",
   "execution_count": 43,
   "id": "84e4f647-e5fc-4742-b62c-c026739b4dce",
   "metadata": {},
   "outputs": [
    {
     "name": "stdout",
     "output_type": "stream",
     "text": [
      "To check a number is divisible by 7 or not\n"
     ]
    },
    {
     "name": "stdin",
     "output_type": "stream",
     "text": [
      "Enter your Number 49\n"
     ]
    },
    {
     "name": "stdout",
     "output_type": "stream",
     "text": [
      "Yes 49 is divisible by 7\n"
     ]
    }
   ],
   "source": [
    "print(\"To check a number is divisible by 7 or not\")\n",
    "number = int(input(\"Enter your Number\"))\n",
    "\n",
    "if number%7 == 0: \n",
    "    print(\"Yes\",number , \"is divisible by 7\")\n",
    "else:\n",
    "    print(\"No\",number, \"is not divisible by 7\")"
   ]
  },
  {
   "cell_type": "markdown",
   "id": "70aaaeb7-59ad-4c86-9a23-f5ddecfe7010",
   "metadata": {},
   "source": [
    "5. Write a program to display \"Hello\" if a number entered by user is a multiple of five , otherwise print \"Bye\"."
   ]
  },
  {
   "cell_type": "code",
   "execution_count": 45,
   "id": "71bd0927-b9c6-45b9-99f8-4171a72dc453",
   "metadata": {},
   "outputs": [
    {
     "name": "stdout",
     "output_type": "stream",
     "text": [
      "To check a number entered by user is a multiple of five\n"
     ]
    },
    {
     "name": "stdin",
     "output_type": "stream",
     "text": [
      "Enter your Number 25\n"
     ]
    },
    {
     "name": "stdout",
     "output_type": "stream",
     "text": [
      "Hello\n"
     ]
    }
   ],
   "source": [
    "print(\"To check a number entered by user is a multiple of five\")\n",
    "number = int(input(\"Enter your Number\"))\n",
    "\n",
    "if number % 5 == 0:\n",
    "    print(\"Hello\")\n",
    "else:\n",
    "    print(\"Bye\")"
   ]
  },
  {
   "cell_type": "markdown",
   "id": "5526ac6a-1eef-4eb3-bc18-f7e52b93bc31",
   "metadata": {},
   "source": [
    "7. Write a program to display the last digit of a number."
   ]
  },
  {
   "cell_type": "code",
   "execution_count": 47,
   "id": "2f59776b-58e8-42c8-b3e2-d2afc033f342",
   "metadata": {},
   "outputs": [
    {
     "name": "stdout",
     "output_type": "stream",
     "text": [
      " a program to display the last digit of a number\n"
     ]
    },
    {
     "name": "stdin",
     "output_type": "stream",
     "text": [
      "Enter your Number 103605\n"
     ]
    },
    {
     "name": "stdout",
     "output_type": "stream",
     "text": [
      "The last digit is: 5\n"
     ]
    }
   ],
   "source": [
    "print(\" a program to display the last digit of a number\")\n",
    "number = int(input(\"Enter your Number\"))\n",
    "\n",
    "last_digit = number % 10\n",
    "print(\"The last digit is:\", last_digit)"
   ]
  },
  {
   "cell_type": "markdown",
   "id": "b6f9e767-f9d5-4710-84d4-a10fef780cbd",
   "metadata": {},
   "source": [
    "8. Take values of length and breadth of a rectangle from user and print if it is square or rectangle."
   ]
  },
  {
   "cell_type": "code",
   "execution_count": 49,
   "id": "471f2c98-0cab-4d2e-ad8b-7222bbe5bd15",
   "metadata": {},
   "outputs": [
    {
     "name": "stdout",
     "output_type": "stream",
     "text": [
      "To check number entered by user is making square or rectangle\n"
     ]
    },
    {
     "name": "stdin",
     "output_type": "stream",
     "text": [
      "Enter your Length 20\n",
      "Enter your Breath 20\n"
     ]
    },
    {
     "name": "stdout",
     "output_type": "stream",
     "text": [
      "The number enter by user is making a square\n"
     ]
    }
   ],
   "source": [
    "print(\"To check number entered by user is making square or rectangle\")\n",
    "Length = int(input(\"Enter your Length\"))\n",
    "Breadth = int(input(\"Enter your Breath\"))\n",
    "\n",
    "if Length == Breadth:\n",
    "    print(\"The number enter by user is making a square\")\n",
    "else:\n",
    "    print(\"The number enter by user is making a rectangle\")"
   ]
  },
  {
   "cell_type": "markdown",
   "id": "2a46e2e7-10ee-4cbc-a291-3c00a96e26a9",
   "metadata": {},
   "source": [
    "9. Take two int values from user and print greatest among them."
   ]
  },
  {
   "cell_type": "code",
   "execution_count": 52,
   "id": "86572fc1-5993-4ddd-a99f-453dc36ecdb0",
   "metadata": {},
   "outputs": [
    {
     "name": "stdout",
     "output_type": "stream",
     "text": [
      "To check number entered by user which is greatest among them\n"
     ]
    },
    {
     "name": "stdin",
     "output_type": "stream",
     "text": [
      "Enter your number 60\n",
      "Enter your number 55\n"
     ]
    },
    {
     "name": "stdout",
     "output_type": "stream",
     "text": [
      "60 is greater\n"
     ]
    }
   ],
   "source": [
    "print(\"To check number entered by user which is greatest among them\")\n",
    "number1 = int(input(\"Enter your number\"))\n",
    "number2 = int(input(\"Enter your number\"))\n",
    "\n",
    "if number1 > number2:\n",
    "    print(number1, \"is greater\")\n",
    "else:\n",
    "    print(number2, \"is greater\")"
   ]
  },
  {
   "cell_type": "markdown",
   "id": "f3117318-060e-48a7-b85e-4bc6008e96c5",
   "metadata": {},
   "source": [
    "10. A shop will give discount of 10% if the cost of purchased quantity is more than 1000. Ask user for quantity Suppose, one unit will cost 100. Judge and print total cost for user."
   ]
  },
  {
   "cell_type": "code",
   "execution_count": 65,
   "id": "5558f444-97a4-445a-80fe-33309dc401f5",
   "metadata": {},
   "outputs": [
    {
     "name": "stdout",
     "output_type": "stream",
     "text": [
      "Shop Discount Program\n"
     ]
    },
    {
     "name": "stdin",
     "output_type": "stream",
     "text": [
      "Enter quantity:  16\n"
     ]
    },
    {
     "name": "stdout",
     "output_type": "stream",
     "text": [
      "Your total cost is 1440.0 so you got 10% discount\n"
     ]
    }
   ],
   "source": [
    "print(\"Shop Discount Program\")\n",
    "\n",
    "quantity = int(input(\"Enter quantity: \"))\n",
    "unit_price = 100\n",
    "\n",
    "total_cost = quantity * unit_price\n",
    "\n",
    "if total_cost > 1000:\n",
    "   discount = (total_cost * 10)/100\n",
    "   total_cost = total_cost - discount\n",
    "   print(\"Your total cost is\", total_cost,\"so you got 10% discount\")\n",
    "else:\n",
    "    print(\"Your total cost is\", total_cost,\"so you can not get discount\")"
   ]
  }
 ],
 "metadata": {
  "kernelspec": {
   "display_name": "Python 3 (ipykernel)",
   "language": "python",
   "name": "python3"
  },
  "language_info": {
   "codemirror_mode": {
    "name": "ipython",
    "version": 3
   },
   "file_extension": ".py",
   "mimetype": "text/x-python",
   "name": "python",
   "nbconvert_exporter": "python",
   "pygments_lexer": "ipython3",
   "version": "3.13.5"
  }
 },
 "nbformat": 4,
 "nbformat_minor": 5
}
