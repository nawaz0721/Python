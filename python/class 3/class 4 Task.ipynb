{
 "cells": [
  {
   "cell_type": "code",
   "execution_count": 1,
   "id": "00396231-355e-47f1-bdbb-7a004fbf36d5",
   "metadata": {},
   "outputs": [
    {
     "name": "stdout",
     "output_type": "stream",
     "text": [
      "hello\n"
     ]
    }
   ],
   "source": [
    "print(\"hello\")"
   ]
  },
  {
   "cell_type": "code",
   "execution_count": 2,
   "id": "559ed933-cf5c-40d8-8ef4-296a09187df7",
   "metadata": {},
   "outputs": [],
   "source": [
    "str1 = \"ahmed\"\n",
    "str2 = \"Gondal\""
   ]
  },
  {
   "cell_type": "code",
   "execution_count": 3,
   "id": "7bd23a5b-2baf-4aa5-81a5-288b0e344689",
   "metadata": {},
   "outputs": [
    {
     "name": "stdout",
     "output_type": "stream",
     "text": [
      "ahmedGondal\n"
     ]
    }
   ],
   "source": [
    "print(str1 + str2)"
   ]
  },
  {
   "cell_type": "code",
   "execution_count": 4,
   "id": "7cce3602-351d-44a4-96fa-02d212bdfed2",
   "metadata": {},
   "outputs": [
    {
     "data": {
      "text/plain": [
       "'Salam ahmed Gondal'"
      ]
     },
     "execution_count": 4,
     "metadata": {},
     "output_type": "execute_result"
    }
   ],
   "source": [
    "\"Salam {0} {1}\".format(str1 , str2)"
   ]
  },
  {
   "cell_type": "code",
   "execution_count": 5,
   "id": "5d7e007b-2cb1-4ffa-ba5f-3d1d78a507ba",
   "metadata": {},
   "outputs": [
    {
     "name": "stdout",
     "output_type": "stream",
     "text": [
      " salam ahmed Gondal\n"
     ]
    }
   ],
   "source": [
    "print(f\" salam {str1} {str2}\")"
   ]
  },
  {
   "cell_type": "code",
   "execution_count": 21,
   "id": "df0e1db8-21c3-4eca-8983-ec998a5cb7a3",
   "metadata": {},
   "outputs": [
    {
     "name": "stdin",
     "output_type": "stream",
     "text": [
      "Enter Your First Name: Ahmed\n",
      "Enter Your Last Name: Ali\n",
      "Enter Your Age: 23\n"
     ]
    }
   ],
   "source": [
    "first_name = input('Enter Your First Name:')\n",
    "last_name = input('Enter Your Last Name:')\n",
    "Age = int(input('Enter Your Age:'))"
   ]
  },
  {
   "cell_type": "code",
   "execution_count": 24,
   "id": "8118b977-1f4a-4e37-a9b3-bf2013ae2872",
   "metadata": {},
   "outputs": [
    {
     "name": "stdout",
     "output_type": "stream",
     "text": [
      "Ahmed Ali\n",
      "Salam Ahmed Ali Kiya Haal Hai\n",
      "Salam Ahmed Ali kiya Haal Hai\n",
      "Ahmed Ali Age is 23\n"
     ]
    }
   ],
   "source": [
    "print(first_name + \" \" + last_name) # method 1\n",
    "print(f\"Salam {first_name} {last_name} Kiya Haal Hai\") # method 2\n",
    "print(\"Salam {0} {1} kiya Haal Hai\".format(first_name , last_name)) # method 3\n",
    "print(\"{0} {1} Age is {2}\".format(first_name , last_name, Age))"
   ]
  },
  {
   "cell_type": "markdown",
   "id": "3bd0d6ae-d5ab-452f-a44e-526e1a8524bb",
   "metadata": {},
   "source": [
    "User Input"
   ]
  },
  {
   "cell_type": "code",
   "execution_count": 15,
   "id": "66e1c34b-3382-41bd-afc1-25023c8defc6",
   "metadata": {},
   "outputs": [
    {
     "name": "stdin",
     "output_type": "stream",
     "text": [
      "Enter your First name: Ahmed \n"
     ]
    }
   ],
   "source": [
    "f_name = input (\"Enter your First name:\")"
   ]
  },
  {
   "cell_type": "code",
   "execution_count": 16,
   "id": "8470748a-a37e-4371-a627-e3ab67218558",
   "metadata": {},
   "outputs": [
    {
     "name": "stdout",
     "output_type": "stream",
     "text": [
      "Ahmed \n"
     ]
    }
   ],
   "source": [
    "print(f_name)"
   ]
  },
  {
   "cell_type": "markdown",
   "id": "d93f3921-5eb5-4143-93bb-a475853da795",
   "metadata": {},
   "source": [
    "## Conditional Statement:"
   ]
  },
  {
   "cell_type": "code",
   "execution_count": 35,
   "id": "4fcd21cb-68ea-4605-bc3d-5f2569a4a1b3",
   "metadata": {},
   "outputs": [
    {
     "name": "stdout",
     "output_type": "stream",
     "text": [
      "Aj to Eid hi hai\n"
     ]
    }
   ],
   "source": [
    "Test = True\n",
    "\n",
    "if Test:\n",
    "    print(\"Aj to Eid hi hai\")\n",
    "else: \n",
    "    print(\"Aj Eid nhi hai\")"
   ]
  },
  {
   "cell_type": "code",
   "execution_count": 38,
   "id": "be613fcd-a364-42e3-b276-696f1cdec19b",
   "metadata": {},
   "outputs": [
    {
     "name": "stdout",
     "output_type": "stream",
     "text": [
      "Shop is opened\n",
      "buy nothing\n"
     ]
    }
   ],
   "source": [
    "shop_open = True\n",
    "rice = False\n",
    "\n",
    "if shop_open: \n",
    "    print(\"Shop is opened\")\n",
    "    if rice:\n",
    "        print(\"Buy 1 KG\")\n",
    "    else:\n",
    "        print(\"buy nothing\")\n",
    "else:\n",
    "    print(\"Shop is close\")"
   ]
  },
  {
   "cell_type": "markdown",
   "id": "d2b13127-da49-4f02-93e0-c554a5006ed8",
   "metadata": {},
   "source": [
    "## Q: Write a program to check whether a person is eligible for votion or not (accept age from user) if age is greater than 17 eligible otherwise not eligible"
   ]
  },
  {
   "cell_type": "code",
   "execution_count": 43,
   "id": "15fbe586-8ad6-4dd1-922e-c0b4089f8a5c",
   "metadata": {},
   "outputs": [
    {
     "name": "stdin",
     "output_type": "stream",
     "text": [
      "Enter You Age to check your are eligible for voting or not 15\n"
     ]
    },
    {
     "name": "stdout",
     "output_type": "stream",
     "text": [
      "Your are not eligible for vote\n"
     ]
    }
   ],
   "source": [
    "Age = int(input(\"Enter You Age to check your are eligible for voting or not\"))\n",
    "\n",
    "if Age>17:\n",
    "    print(\"Your are eligible for vote\")\n",
    "else:\n",
    "    print(\"Your are not eligible for vote\")"
   ]
  },
  {
   "cell_type": "markdown",
   "id": "d3bdddee-1826-46e7-a3fa-1d3e1743356c",
   "metadata": {},
   "source": [
    "## Q: Write a program to check whether a number entered by user is even or odd"
   ]
  },
  {
   "cell_type": "code",
   "execution_count": 50,
   "id": "6980df17-7349-453e-b69f-37feb64df319",
   "metadata": {},
   "outputs": [
    {
     "name": "stdin",
     "output_type": "stream",
     "text": [
      "Enter your Number: 28\n"
     ]
    },
    {
     "name": "stdout",
     "output_type": "stream",
     "text": [
      "Your Number is Even\n"
     ]
    }
   ],
   "source": [
    "Number= int(input(\"Enter your Number:\"))\n",
    "\n",
    "if Number % 2 == 0: \n",
    "    print(\"Your Number is Even\")\n",
    "else:\n",
    "    print(\"Your Number is Odd\")"
   ]
  },
  {
   "cell_type": "code",
   "execution_count": 51,
   "id": "0983a3b0-d8b5-4a2f-899a-cb626f2d58ed",
   "metadata": {},
   "outputs": [
    {
     "name": "stdin",
     "output_type": "stream",
     "text": [
      "Enter your Number: 25\n"
     ]
    },
    {
     "name": "stdout",
     "output_type": "stream",
     "text": [
      "Hello\n"
     ]
    }
   ],
   "source": [
    "Number= int(input(\"Enter your Number:\"))\n",
    "\n",
    "if Number % 5 == 0: \n",
    "    print(\"Hello\")\n",
    "else:\n",
    "    print(\"Bye\")"
   ]
  },
  {
   "cell_type": "markdown",
   "id": "2ab54175-cf43-4afe-acdc-c38512623689",
   "metadata": {},
   "source": [
    "### A school has following  rules for grading system:\n",
    "\n",
    "Below 25 - F    \n",
    "25 to 45 - E    \n",
    "45 to 50 - D    \n",
    "50 to 60 - C   \n",
    "60 to 80 - B  \n",
    "Above 80 - A  \n",
    "\n",
    "Ask user to enter makrs and print the corresponding grade\n"
   ]
  },
  {
   "cell_type": "code",
   "execution_count": 82,
   "id": "5aca996a-8ed9-433a-8f7a-ca92f2ce0e72",
   "metadata": {},
   "outputs": [
    {
     "name": "stdin",
     "output_type": "stream",
     "text": [
      "Enter your marks 86\n"
     ]
    },
    {
     "name": "stdout",
     "output_type": "stream",
     "text": [
      "Your grade is A\n"
     ]
    }
   ],
   "source": [
    "marks = int(input(\"Enter your marks\"))\n",
    "\n",
    "if marks < 25:\n",
    "    print(\"Your grade is F\")\n",
    "elif marks>= 25 and marks<45:\n",
    "    print(\"Your grade is E\")\n",
    "elif marks>= 45 and marks<50:\n",
    "    print(\"Your grade is D\")\n",
    "elif marks>= 50 and marks<60:\n",
    "    print(\"Your grade is C\")\n",
    "elif marks>= 60 and marks<80:\n",
    "    print(\"Your grade is B\")\n",
    "elif marks>=80 and marks<=100:\n",
    "    print(\"Your grade is A\")\n",
    "else:\n",
    " print(\"Invaild Input\")"
   ]
  },
  {
   "cell_type": "markdown",
   "id": "f706ebcd-9824-4f59-b5ce-22aa0b25f762",
   "metadata": {},
   "source": [
    "# Methods of any type"
   ]
  },
  {
   "cell_type": "code",
   "execution_count": 87,
   "id": "eab67ebc-3cf6-4f29-ba7a-099e065ef2c9",
   "metadata": {},
   "outputs": [],
   "source": [
    "str = \"Ahmed Nawaz Gondal\""
   ]
  },
  {
   "cell_type": "code",
   "execution_count": 93,
   "id": "cfdde338-17ed-4cf4-826a-0c803271314d",
   "metadata": {},
   "outputs": [
    {
     "data": {
      "text/plain": [
       "'Nawaz'"
      ]
     },
     "execution_count": 93,
     "metadata": {},
     "output_type": "execute_result"
    }
   ],
   "source": [
    "str[6:11]"
   ]
  },
  {
   "cell_type": "code",
   "execution_count": 94,
   "id": "c70ed09a-9331-42f8-988b-e8d6914b817b",
   "metadata": {},
   "outputs": [
    {
     "data": {
      "text/plain": [
       "'AHMED'"
      ]
     },
     "execution_count": 94,
     "metadata": {},
     "output_type": "execute_result"
    }
   ],
   "source": [
    "\"Ahmed\".upper()"
   ]
  },
  {
   "cell_type": "code",
   "execution_count": 97,
   "id": "cf14d7a4-44d6-49cf-8d17-008ef9935229",
   "metadata": {},
   "outputs": [
    {
     "data": {
      "text/plain": [
       "'Ahmed'"
      ]
     },
     "execution_count": 97,
     "metadata": {},
     "output_type": "execute_result"
    }
   ],
   "source": [
    "\"Ahmed\".title()"
   ]
  },
  {
   "cell_type": "code",
   "execution_count": 100,
   "id": "7193d646-1b4c-4c5e-ac37-a2759c5017fd",
   "metadata": {},
   "outputs": [
    {
     "data": {
      "text/plain": [
       "2"
      ]
     },
     "execution_count": 100,
     "metadata": {},
     "output_type": "execute_result"
    }
   ],
   "source": [
    "\"Nawaz\".count('a')"
   ]
  },
  {
   "cell_type": "code",
   "execution_count": 121,
   "id": "d09baee3-cfa1-453a-ae75-1b93e47da615",
   "metadata": {},
   "outputs": [
    {
     "data": {
      "text/plain": [
       "3"
      ]
     },
     "execution_count": 121,
     "metadata": {},
     "output_type": "execute_result"
    }
   ],
   "source": [
    "#find\n",
    "\"Ahmed\".find('e')"
   ]
  },
  {
   "cell_type": "code",
   "execution_count": 117,
   "id": "8612f04b-8a69-4a0f-aed6-a948f395798a",
   "metadata": {},
   "outputs": [
    {
     "data": {
      "text/plain": [
       "5"
      ]
     },
     "execution_count": 117,
     "metadata": {},
     "output_type": "execute_result"
    }
   ],
   "source": [
    "#index\n",
    "\"Gondal\".index('l')"
   ]
  },
  {
   "cell_type": "code",
   "execution_count": 118,
   "id": "ea4331fa-0159-455c-8d3d-e1856eadf350",
   "metadata": {},
   "outputs": [
    {
     "data": {
      "text/plain": [
       "'NawaA'"
      ]
     },
     "execution_count": 118,
     "metadata": {},
     "output_type": "execute_result"
    }
   ],
   "source": [
    "#Replace\n",
    "\"Nawaz\".replace('z', 'A')"
   ]
  },
  {
   "cell_type": "code",
   "execution_count": 120,
   "id": "a07a8e82-baf3-482d-b1f7-3d1c338bc486",
   "metadata": {},
   "outputs": [
    {
     "data": {
      "text/plain": [
       "'g o n d a l'"
      ]
     },
     "execution_count": 120,
     "metadata": {},
     "output_type": "execute_result"
    }
   ],
   "source": [
    "#join\n",
    "\" \".join('gondal')"
   ]
  },
  {
   "cell_type": "code",
   "execution_count": null,
   "id": "f226b916-3097-4e83-9699-80d34321ae26",
   "metadata": {},
   "outputs": [],
   "source": []
  }
 ],
 "metadata": {
  "kernelspec": {
   "display_name": "Python 3 (ipykernel)",
   "language": "python",
   "name": "python3"
  },
  "language_info": {
   "codemirror_mode": {
    "name": "ipython",
    "version": 3
   },
   "file_extension": ".py",
   "mimetype": "text/x-python",
   "name": "python",
   "nbconvert_exporter": "python",
   "pygments_lexer": "ipython3",
   "version": "3.13.5"
  }
 },
 "nbformat": 4,
 "nbformat_minor": 5
}
