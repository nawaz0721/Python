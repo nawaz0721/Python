{
 "cells": [
  {
   "cell_type": "markdown",
   "id": "0844734f-e7a5-4a3b-9fac-e028f2d6a262",
   "metadata": {},
   "source": [
    "### Dictionaries"
   ]
  },
  {
   "cell_type": "code",
   "execution_count": 2,
   "id": "a2331426-139d-4e2d-a916-8053572e4e6e",
   "metadata": {},
   "outputs": [],
   "source": [
    "customer = {\n",
    "    \"firstName\": \"Jhon\",\n",
    "    \"lastName\": \"Ogden\",\n",
    "    \"age\": 23,\n",
    "    \"Address\": \"USA\",\n",
    "}"
   ]
  },
  {
   "cell_type": "code",
   "execution_count": 3,
   "id": "7cf4ec5a-2689-4cc7-b62f-d6c72e3c15ea",
   "metadata": {},
   "outputs": [
    {
     "data": {
      "text/plain": [
       "'Ogden'"
      ]
     },
     "execution_count": 3,
     "metadata": {},
     "output_type": "execute_result"
    }
   ],
   "source": [
    "customer[\"lastName\"]"
   ]
  },
  {
   "cell_type": "code",
   "execution_count": 4,
   "id": "0cba2328-921f-4b5c-9fd9-e603e3e94893",
   "metadata": {},
   "outputs": [
    {
     "data": {
      "text/plain": [
       "'Jhon'"
      ]
     },
     "execution_count": 4,
     "metadata": {},
     "output_type": "execute_result"
    }
   ],
   "source": [
    "customer.get(\"firstName\")"
   ]
  },
  {
   "cell_type": "code",
   "execution_count": 7,
   "id": "89c277e0-9de1-4ac3-8583-9760d9286a3d",
   "metadata": {},
   "outputs": [],
   "source": [
    "customer[\"Phone Number\"] =  \"+1 256 2675 62\""
   ]
  },
  {
   "cell_type": "code",
   "execution_count": 9,
   "id": "bd48b7bf-2543-4782-b7c6-87c73dd04e66",
   "metadata": {},
   "outputs": [],
   "source": [
    "customer.setdefault(\"phone_Number\")"
   ]
  },
  {
   "cell_type": "code",
   "execution_count": 10,
   "id": "ad3ac4eb-ab9b-49d4-9013-3e53dfd5da18",
   "metadata": {},
   "outputs": [
    {
     "data": {
      "text/plain": [
       "{'firstName': 'Jhon',\n",
       " 'lastName': 'Ogden',\n",
       " 'age': 23,\n",
       " 'Address': 'USA',\n",
       " 'Phone Number': '+1 256 2675 62',\n",
       " 'phone_Number': None}"
      ]
     },
     "execution_count": 10,
     "metadata": {},
     "output_type": "execute_result"
    }
   ],
   "source": [
    "customer"
   ]
  },
  {
   "cell_type": "code",
   "execution_count": 14,
   "id": "1c39a376-93c8-4a86-9b95-e65bb61450ff",
   "metadata": {},
   "outputs": [
    {
     "data": {
      "text/plain": [
       "('phone_Number', None)"
      ]
     },
     "execution_count": 14,
     "metadata": {},
     "output_type": "execute_result"
    }
   ],
   "source": [
    "customer.popitem()"
   ]
  },
  {
   "cell_type": "code",
   "execution_count": 16,
   "id": "e37dd3b7-5618-4815-a1c7-b14555334fea",
   "metadata": {},
   "outputs": [
    {
     "data": {
      "text/plain": [
       "23"
      ]
     },
     "execution_count": 16,
     "metadata": {},
     "output_type": "execute_result"
    }
   ],
   "source": [
    "customer.pop(\"age\")"
   ]
  },
  {
   "cell_type": "code",
   "execution_count": 17,
   "id": "7811d813-4688-46d3-8fec-d1049984e1de",
   "metadata": {},
   "outputs": [
    {
     "data": {
      "text/plain": [
       "{'firstName': 'Jhon',\n",
       " 'lastName': 'Ogden',\n",
       " 'Address': 'USA',\n",
       " 'Phone Number': '+1 256 2675 62'}"
      ]
     },
     "execution_count": 17,
     "metadata": {},
     "output_type": "execute_result"
    }
   ],
   "source": [
    "customer"
   ]
  },
  {
   "cell_type": "markdown",
   "id": "3b85780c-4054-44dc-85d5-a669e6f35b0f",
   "metadata": {},
   "source": [
    "### List of Dictionaries"
   ]
  },
  {
   "cell_type": "code",
   "execution_count": 18,
   "id": "fccb1fad-0839-4f43-8caf-9f0f28389448",
   "metadata": {},
   "outputs": [],
   "source": [
    "lst_dict = [\n",
    "    {\n",
    "        'firstName': 'Jhon',\n",
    "        'lastName': 'Ogden',\n",
    "        'Address': 'USA',\n",
    "        'Phone Number': '+1 256 2675 62'\n",
    "    }\n",
    "]"
   ]
  },
  {
   "cell_type": "code",
   "execution_count": 19,
   "id": "6e64faa2-b89f-4ea7-8dc7-dda81ad4c701",
   "metadata": {},
   "outputs": [],
   "source": [
    "lst_dict[0][\"age\"] = 25"
   ]
  },
  {
   "cell_type": "code",
   "execution_count": 23,
   "id": "a254d57c-ddb3-4bad-a6ba-f1b5df7c2c2d",
   "metadata": {},
   "outputs": [
    {
     "data": {
      "text/plain": [
       "[{'firstName': 'Jhon',\n",
       "  'lastName': 'Ogden',\n",
       "  'Address': 'USA',\n",
       "  'Phone Number': '+1 256 2675 62',\n",
       "  'age': 25}]"
      ]
     },
     "execution_count": 23,
     "metadata": {},
     "output_type": "execute_result"
    }
   ],
   "source": [
    "lst_dict"
   ]
  },
  {
   "cell_type": "markdown",
   "id": "357a401d-ff93-4f70-8bc6-4bc23742cba9",
   "metadata": {},
   "source": [
    "## Task: \n",
    " - Using loop add a \"age\" key in all dictionary with default value as None\n",
    " - Using a list to convert the customer dictionary to list of list (make sure in nexted list) you have only the values NOT keys)\n",
    " - Convert this (list of dict) to (dict of dict)\n",
    " - Remove all \"customer id\" for (dist od dist)\n",
    " - Apply "
   ]
  },
  {
   "cell_type": "code",
   "execution_count": 25,
   "id": "d6219eeb-c361-48c5-ac65-44c7d59592c8",
   "metadata": {},
   "outputs": [],
   "source": [
    "customers = [\n",
    "    {     \n",
    "    \"customer id\": 0,\n",
    "    \"first name\":\"John\",\n",
    "    \"last name\": \"Ogden\",\n",
    "    \"address\": \"301 Arbor Rd.\",\n",
    "     },\n",
    "     {\n",
    "     \"customer id\": 1,\n",
    "     \"first name\":\"Ann\",\n",
    "     \"last name\": \"Sattermyer\",\n",
    "     \"address\": \"PO Box 1145\",\n",
    "     },\n",
    "     {\n",
    "     \"customer id\": 2,\n",
    "    \"first name\":\"Jill\",\n",
    "    \"last name\": \"Somers\",\n",
    "    \"address\": \"3 Main St.\",\n",
    "    },\n",
    "]"
   ]
  },
  {
   "cell_type": "code",
   "execution_count": 28,
   "id": "49b45373-be10-4f7d-a0c9-c6886cf826fb",
   "metadata": {},
   "outputs": [
    {
     "name": "stdout",
     "output_type": "stream",
     "text": [
      "[{'customer id': 0, 'first name': 'John', 'last name': 'Ogden', 'address': '301 Arbor Rd.', 'age': None}, {'customer id': 1, 'first name': 'Ann', 'last name': 'Sattermyer', 'address': 'PO Box 1145', 'age': None}, {'customer id': 2, 'first name': 'Jill', 'last name': 'Somers', 'address': '3 Main St.', 'age': None}]\n"
     ]
    }
   ],
   "source": [
    "for i in customers:\n",
    "    i[\"age\"] = None\n",
    "print(customers)"
   ]
  },
  {
   "cell_type": "code",
   "execution_count": 31,
   "id": "c0bbb911-b9ee-4fa5-833e-970b9d2a4335",
   "metadata": {},
   "outputs": [
    {
     "name": "stdout",
     "output_type": "stream",
     "text": [
      "[[0, 'John', 'Ogden', '301 Arbor Rd.', None], [1, 'Ann', 'Sattermyer', 'PO Box 1145', None], [2, 'Jill', 'Somers', '3 Main St.', None]]\n"
     ]
    }
   ],
   "source": [
    "lst=[]\n",
    "for x in customers:\n",
    "    lst.append(list(x.values()))\n",
    "print(lst)"
   ]
  },
  {
   "cell_type": "code",
   "execution_count": null,
   "id": "5cc1fb45-6309-4c7a-a7df-5f8bdb6ee22e",
   "metadata": {},
   "outputs": [],
   "source": []
  }
 ],
 "metadata": {
  "kernelspec": {
   "display_name": "Python 3 (ipykernel)",
   "language": "python",
   "name": "python3"
  },
  "language_info": {
   "codemirror_mode": {
    "name": "ipython",
    "version": 3
   },
   "file_extension": ".py",
   "mimetype": "text/x-python",
   "name": "python",
   "nbconvert_exporter": "python",
   "pygments_lexer": "ipython3",
   "version": "3.13.5"
  }
 },
 "nbformat": 4,
 "nbformat_minor": 5
}
