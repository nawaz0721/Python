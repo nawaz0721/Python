{
 "cells": [
  {
   "cell_type": "code",
   "execution_count": 5,
   "id": "d508fdd9-562f-4670-a39e-4c8655281932",
   "metadata": {},
   "outputs": [],
   "source": [
    " city_0 = \"Atlanta\"\n",
    " city_1 = \"Baltimore\"\n",
    " city_2 = \"Chicago\"\n",
    " city_3 = \"Denver\"\n",
    " city_4 = \"Los Angeles\"\n",
    " city_5 = \"Seattle\"\n"
   ]
  },
  {
   "cell_type": "code",
   "execution_count": 6,
   "id": "19cb45c4-aae8-4f82-bb9d-ef1554e94741",
   "metadata": {},
   "outputs": [
    {
     "data": {
      "text/plain": [
       "(2268922881264, 2268922879440)"
      ]
     },
     "execution_count": 6,
     "metadata": {},
     "output_type": "execute_result"
    }
   ],
   "source": [
    "id(city_2), id(city_0)"
   ]
  },
  {
   "cell_type": "markdown",
   "id": "8ed8727a-d474-4067-8bf0-47aeaf5e2c83",
   "metadata": {},
   "source": [
    "- managing collection of values\n",
    "- slower\n",
    "- Solution: Data Structure for collection of values: List\n"
   ]
  },
  {
   "cell_type": "code",
   "execution_count": 9,
   "id": "080e7ad1-e398-4bb7-a095-fce21c332333",
   "metadata": {},
   "outputs": [],
   "source": [
    "cities = [ \"Atlanta\" , \"Baltimore\" , \"Chicago\" , \"Denver\" , \"Los Angeles\", \"Seattle\"]"
   ]
  },
  {
   "cell_type": "code",
   "execution_count": 12,
   "id": "492e900d-d058-4c28-a123-abce7db81924",
   "metadata": {},
   "outputs": [
    {
     "name": "stdout",
     "output_type": "stream",
     "text": [
      "<class 'list'> 2268922916224\n"
     ]
    }
   ],
   "source": [
    "print(type(cities), id(cities))"
   ]
  },
  {
   "cell_type": "code",
   "execution_count": 19,
   "id": "a3fd582d-d2bb-48dc-ad64-de825bb5259d",
   "metadata": {},
   "outputs": [],
   "source": [
    "cities.append(\"Karachi\")"
   ]
  },
  {
   "cell_type": "code",
   "execution_count": 14,
   "id": "b193c3fa-9217-4cf0-8035-89d01f2c059f",
   "metadata": {},
   "outputs": [
    {
     "data": {
      "text/plain": [
       "['Atlanta',\n",
       " 'Baltimore',\n",
       " 'Chicago',\n",
       " 'Denver',\n",
       " 'Los Angeles',\n",
       " 'Seattle',\n",
       " 'Karachi']"
      ]
     },
     "execution_count": 14,
     "metadata": {},
     "output_type": "execute_result"
    }
   ],
   "source": [
    "cities"
   ]
  },
  {
   "cell_type": "code",
   "execution_count": 22,
   "id": "1b96cd76-03e1-476d-ab9d-6bcc79062b92",
   "metadata": {},
   "outputs": [
    {
     "data": {
      "text/plain": [
       "5"
      ]
     },
     "execution_count": 22,
     "metadata": {},
     "output_type": "execute_result"
    }
   ],
   "source": [
    "cities.count(\"Karachi\")"
   ]
  },
  {
   "cell_type": "code",
   "execution_count": 23,
   "id": "ee884ead-37b2-41c4-b892-12e43adcc8f0",
   "metadata": {},
   "outputs": [
    {
     "data": {
      "text/plain": [
       "['Atlanta',\n",
       " 'Baltimore',\n",
       " 'Chicago',\n",
       " 'Denver',\n",
       " 'Los Angeles',\n",
       " 'Seattle',\n",
       " 'Karachi',\n",
       " 'Karachi',\n",
       " 'Karachi',\n",
       " 'Karachi',\n",
       " 'Karachi']"
      ]
     },
     "execution_count": 23,
     "metadata": {},
     "output_type": "execute_result"
    }
   ],
   "source": [
    "cities"
   ]
  },
  {
   "cell_type": "code",
   "execution_count": 24,
   "id": "b11f2d3c-efcb-4dbd-ac88-777064d48342",
   "metadata": {},
   "outputs": [],
   "source": [
    "cities.extend(\"Lahore\")"
   ]
  },
  {
   "cell_type": "code",
   "execution_count": 25,
   "id": "93c212ba-38c1-4c22-a3b2-fead2ff83cb9",
   "metadata": {},
   "outputs": [
    {
     "data": {
      "text/plain": [
       "['Atlanta',\n",
       " 'Baltimore',\n",
       " 'Chicago',\n",
       " 'Denver',\n",
       " 'Los Angeles',\n",
       " 'Seattle',\n",
       " 'Karachi',\n",
       " 'Karachi',\n",
       " 'Karachi',\n",
       " 'Karachi',\n",
       " 'Karachi',\n",
       " 'L',\n",
       " 'a',\n",
       " 'h',\n",
       " 'o',\n",
       " 'r',\n",
       " 'e']"
      ]
     },
     "execution_count": 25,
     "metadata": {},
     "output_type": "execute_result"
    }
   ],
   "source": [
    "cities"
   ]
  },
  {
   "cell_type": "code",
   "execution_count": 26,
   "id": "25cbd684-3aa2-4f86-927a-7b4ae0c69781",
   "metadata": {},
   "outputs": [
    {
     "data": {
      "text/plain": [
       "6"
      ]
     },
     "execution_count": 26,
     "metadata": {},
     "output_type": "execute_result"
    }
   ],
   "source": [
    "cities.index(\"Karachi\")"
   ]
  },
  {
   "cell_type": "code",
   "execution_count": 27,
   "id": "f9f000d6-6537-49d1-810b-90b9d6d220e7",
   "metadata": {},
   "outputs": [
    {
     "data": {
      "text/plain": [
       "12"
      ]
     },
     "execution_count": 27,
     "metadata": {},
     "output_type": "execute_result"
    }
   ],
   "source": [
    "cities.index(\"a\")"
   ]
  },
  {
   "cell_type": "code",
   "execution_count": 28,
   "id": "fd0053cd-3e81-444d-9b79-5ee59ff3912d",
   "metadata": {},
   "outputs": [
    {
     "data": {
      "text/plain": [
       "'Karachi'"
      ]
     },
     "execution_count": 28,
     "metadata": {},
     "output_type": "execute_result"
    }
   ],
   "source": [
    "cities.pop(7)"
   ]
  },
  {
   "cell_type": "code",
   "execution_count": 31,
   "id": "0257dd01-1d8a-4e66-9afe-dcd462bdcd08",
   "metadata": {},
   "outputs": [
    {
     "data": {
      "text/plain": [
       "'Karachi'"
      ]
     },
     "execution_count": 31,
     "metadata": {},
     "output_type": "execute_result"
    }
   ],
   "source": [
    "cities.pop(8)"
   ]
  },
  {
   "cell_type": "code",
   "execution_count": 32,
   "id": "551d3ccb-eece-478d-a538-932f9d6c428b",
   "metadata": {},
   "outputs": [
    {
     "data": {
      "text/plain": [
       "['Atlanta',\n",
       " 'Baltimore',\n",
       " 'Chicago',\n",
       " 'Denver',\n",
       " 'Los Angeles',\n",
       " 'Seattle',\n",
       " 'Karachi',\n",
       " 'Karachi',\n",
       " 'L',\n",
       " 'a',\n",
       " 'h',\n",
       " 'o',\n",
       " 'r',\n",
       " 'e']"
      ]
     },
     "execution_count": 32,
     "metadata": {},
     "output_type": "execute_result"
    }
   ],
   "source": [
    "cities"
   ]
  },
  {
   "cell_type": "code",
   "execution_count": 33,
   "id": "913bcc92-a497-4356-bd71-1554726f1723",
   "metadata": {},
   "outputs": [],
   "source": [
    "cities.remove(\"Karachi\")"
   ]
  },
  {
   "cell_type": "code",
   "execution_count": 34,
   "id": "64296b4a-e258-4492-aa94-fd9ca5028dd6",
   "metadata": {},
   "outputs": [
    {
     "data": {
      "text/plain": [
       "['Atlanta',\n",
       " 'Baltimore',\n",
       " 'Chicago',\n",
       " 'Denver',\n",
       " 'Los Angeles',\n",
       " 'Seattle',\n",
       " 'Karachi',\n",
       " 'L',\n",
       " 'a',\n",
       " 'h',\n",
       " 'o',\n",
       " 'r',\n",
       " 'e']"
      ]
     },
     "execution_count": 34,
     "metadata": {},
     "output_type": "execute_result"
    }
   ],
   "source": [
    "cities"
   ]
  },
  {
   "cell_type": "code",
   "execution_count": 35,
   "id": "361aa59a-a868-4eb0-9970-c92766ba9b7c",
   "metadata": {},
   "outputs": [],
   "source": [
    "cities.clear()"
   ]
  },
  {
   "cell_type": "code",
   "execution_count": 36,
   "id": "fef550c7-6549-47b5-a914-051bdb70bfc0",
   "metadata": {},
   "outputs": [
    {
     "data": {
      "text/plain": [
       "[]"
      ]
     },
     "execution_count": 36,
     "metadata": {},
     "output_type": "execute_result"
    }
   ],
   "source": [
    "cities"
   ]
  },
  {
   "cell_type": "markdown",
   "id": "ed1a7269-5896-445a-8f6f-d6f8424b05cd",
   "metadata": {},
   "source": [
    "### Shallow/Deep Copy "
   ]
  },
  {
   "cell_type": "code",
   "execution_count": 40,
   "id": "21b3b2dd-3fba-4637-bd2e-4f887b6f3a6b",
   "metadata": {},
   "outputs": [],
   "source": [
    "cities = [\n",
    "    'Atlanta',\n",
    " 'Baltimore',\n",
    " 'Chicago',\n",
    " 'Denver',\n",
    " 'Los Angeles',\n",
    " 'Seattle',\n",
    " 'Karachi',\n",
    " 'Lahore'\n",
    "]"
   ]
  },
  {
   "cell_type": "code",
   "execution_count": 41,
   "id": "d29668fd-ed56-4f29-a602-f300057f3d94",
   "metadata": {},
   "outputs": [],
   "source": [
    "cities_new = cities.copy()"
   ]
  },
  {
   "cell_type": "code",
   "execution_count": 42,
   "id": "9bde4abf-3cd6-4193-8b40-362ea230d6d9",
   "metadata": {},
   "outputs": [
    {
     "data": {
      "text/plain": [
       "['Atlanta',\n",
       " 'Baltimore',\n",
       " 'Chicago',\n",
       " 'Denver',\n",
       " 'Los Angeles',\n",
       " 'Seattle',\n",
       " 'Karachi',\n",
       " 'Lahore']"
      ]
     },
     "execution_count": 42,
     "metadata": {},
     "output_type": "execute_result"
    }
   ],
   "source": [
    "cities_new"
   ]
  },
  {
   "cell_type": "markdown",
   "id": "eabf62f2-6fd5-4587-9d60-11202e371781",
   "metadata": {},
   "source": [
    "## Slicing"
   ]
  },
  {
   "cell_type": "code",
   "execution_count": 45,
   "id": "f52b4a8a-994b-4ae9-bc37-395a439e68f5",
   "metadata": {},
   "outputs": [
    {
     "data": {
      "text/plain": [
       "['Atlanta', 'Baltimore', 'Chicago', 'Denver']"
      ]
     },
     "execution_count": 45,
     "metadata": {},
     "output_type": "execute_result"
    }
   ],
   "source": [
    "cities[:4]"
   ]
  },
  {
   "cell_type": "code",
   "execution_count": 46,
   "id": "24e91e71-37fc-4856-b120-75a44dfbc2e3",
   "metadata": {},
   "outputs": [
    {
     "data": {
      "text/plain": [
       "['Baltimore', 'Chicago', 'Denver']"
      ]
     },
     "execution_count": 46,
     "metadata": {},
     "output_type": "execute_result"
    }
   ],
   "source": [
    "cities[1:4]"
   ]
  },
  {
   "cell_type": "code",
   "execution_count": 47,
   "id": "668e66ab-32ef-469d-9fcc-1705918dbf54",
   "metadata": {},
   "outputs": [
    {
     "data": {
      "text/plain": [
       "['Lahore',\n",
       " 'Karachi',\n",
       " 'Seattle',\n",
       " 'Los Angeles',\n",
       " 'Denver',\n",
       " 'Chicago',\n",
       " 'Baltimore',\n",
       " 'Atlanta']"
      ]
     },
     "execution_count": 47,
     "metadata": {},
     "output_type": "execute_result"
    }
   ],
   "source": [
    "cities[::-1]"
   ]
  },
  {
   "cell_type": "markdown",
   "id": "90ecd35c-fa44-4843-a03a-4f5f4e64b4f6",
   "metadata": {},
   "source": [
    " - Task: Create a student list of names and apply all methods taht we learn today"
   ]
  },
  {
   "cell_type": "code",
   "execution_count": 54,
   "id": "da99a336-9d2c-45e4-8aca-7773d186bfb8",
   "metadata": {},
   "outputs": [],
   "source": [
    "Students = [ \"Ahmed\" , \"Ibad\" , \"Shujaat\" , \"Rameez\"]"
   ]
  },
  {
   "cell_type": "code",
   "execution_count": 55,
   "id": "ede0e490-2810-45fd-a3c4-ef6e927713c6",
   "metadata": {},
   "outputs": [
    {
     "data": {
      "text/plain": [
       "['Ahmed', 'Ibad', 'Shujaat', 'Rameez']"
      ]
     },
     "execution_count": 55,
     "metadata": {},
     "output_type": "execute_result"
    }
   ],
   "source": [
    "Students"
   ]
  },
  {
   "cell_type": "code",
   "execution_count": 57,
   "id": "778b233b-0794-47f3-a399-6d632fec4e08",
   "metadata": {},
   "outputs": [],
   "source": [
    "Students.append(\"Hashim\")"
   ]
  },
  {
   "cell_type": "code",
   "execution_count": 58,
   "id": "2b742a21-d5cd-4519-932a-af42333d7b9a",
   "metadata": {},
   "outputs": [
    {
     "data": {
      "text/plain": [
       "['Ahmed', 'Ibad', 'Shujaat', 'Rameez', 'Hashim']"
      ]
     },
     "execution_count": 58,
     "metadata": {},
     "output_type": "execute_result"
    }
   ],
   "source": [
    "Students"
   ]
  },
  {
   "cell_type": "code",
   "execution_count": 59,
   "id": "9b9ae6f0-5ece-41c7-bb5e-699395113b9a",
   "metadata": {},
   "outputs": [
    {
     "data": {
      "text/plain": [
       "1"
      ]
     },
     "execution_count": 59,
     "metadata": {},
     "output_type": "execute_result"
    }
   ],
   "source": [
    "Students.count(\"Ahmed\")"
   ]
  },
  {
   "cell_type": "code",
   "execution_count": 62,
   "id": "46d20e41-a5fe-4046-95fc-2457a4ac8db5",
   "metadata": {},
   "outputs": [],
   "source": [
    "Students.extend(\"Ahmed\")"
   ]
  },
  {
   "cell_type": "code",
   "execution_count": 63,
   "id": "745df836-8d3c-44b6-9f22-a3d91c2cb6bd",
   "metadata": {},
   "outputs": [
    {
     "data": {
      "text/plain": [
       "['Ahmed', 'Ibad', 'Shujaat', 'Rameez', 'Hashim', 'A', 'h', 'm', 'e', 'd']"
      ]
     },
     "execution_count": 63,
     "metadata": {},
     "output_type": "execute_result"
    }
   ],
   "source": [
    "Students"
   ]
  },
  {
   "cell_type": "code",
   "execution_count": 64,
   "id": "2993c342-4cdf-4d1d-89ca-fbcee7b417dc",
   "metadata": {},
   "outputs": [
    {
     "data": {
      "text/plain": [
       "2"
      ]
     },
     "execution_count": 64,
     "metadata": {},
     "output_type": "execute_result"
    }
   ],
   "source": [
    "Students.index(\"Shujaat\")"
   ]
  },
  {
   "cell_type": "code",
   "execution_count": 66,
   "id": "dc7151d1-f612-4117-8073-cc45886feb3d",
   "metadata": {},
   "outputs": [],
   "source": [
    "Students.insert(5 , \"Umer\")"
   ]
  },
  {
   "cell_type": "code",
   "execution_count": 67,
   "id": "463e2013-3213-45b1-ba75-4d0bdd6594e4",
   "metadata": {},
   "outputs": [
    {
     "data": {
      "text/plain": [
       "['Ahmed',\n",
       " 'Ibad',\n",
       " 'Shujaat',\n",
       " 'Rameez',\n",
       " 'Hashim',\n",
       " 'Umer',\n",
       " 'A',\n",
       " 'h',\n",
       " 'm',\n",
       " 'e',\n",
       " 'd']"
      ]
     },
     "execution_count": 67,
     "metadata": {},
     "output_type": "execute_result"
    }
   ],
   "source": [
    "Students"
   ]
  },
  {
   "cell_type": "code",
   "execution_count": 68,
   "id": "d1b293a7-00cb-4ab2-a5ab-c2d5ba4c26c9",
   "metadata": {},
   "outputs": [
    {
     "data": {
      "text/plain": [
       "'d'"
      ]
     },
     "execution_count": 68,
     "metadata": {},
     "output_type": "execute_result"
    }
   ],
   "source": [
    "Students.pop()"
   ]
  },
  {
   "cell_type": "code",
   "execution_count": 70,
   "id": "de3f13ad-ef28-4156-9444-56e35f36166c",
   "metadata": {},
   "outputs": [],
   "source": [
    "Students.remove(\"h\")"
   ]
  },
  {
   "cell_type": "code",
   "execution_count": 71,
   "id": "d229c7e9-eb0d-4ef8-a4ae-cf637638ccc9",
   "metadata": {},
   "outputs": [
    {
     "data": {
      "text/plain": [
       "['Ahmed', 'Ibad', 'Shujaat', 'Rameez', 'Hashim', 'Umer', 'A', 'm', 'e']"
      ]
     },
     "execution_count": 71,
     "metadata": {},
     "output_type": "execute_result"
    }
   ],
   "source": [
    "Students"
   ]
  },
  {
   "cell_type": "code",
   "execution_count": 81,
   "id": "2feff68a-e87f-4477-b1cf-2d30eea97f9f",
   "metadata": {},
   "outputs": [],
   "source": [
    "Students.reverse()"
   ]
  },
  {
   "cell_type": "code",
   "execution_count": 82,
   "id": "2927c3cc-c382-4332-9b02-538c8f596b42",
   "metadata": {},
   "outputs": [
    {
     "data": {
      "text/plain": [
       "['e', 'm', 'A', 'Umer', 'Hashim', 'Rameez', 'Shujaat', 'Ibad', 'Ahmed']"
      ]
     },
     "execution_count": 82,
     "metadata": {},
     "output_type": "execute_result"
    }
   ],
   "source": [
    "Students"
   ]
  },
  {
   "cell_type": "code",
   "execution_count": 83,
   "id": "e1a27d12-bbc1-40ec-b6f4-545317b97861",
   "metadata": {},
   "outputs": [],
   "source": [
    "Students.sort()"
   ]
  },
  {
   "cell_type": "code",
   "execution_count": 84,
   "id": "28da9dfc-276c-4621-adb5-48f7b33e5446",
   "metadata": {},
   "outputs": [
    {
     "data": {
      "text/plain": [
       "['A', 'Ahmed', 'Hashim', 'Ibad', 'Rameez', 'Shujaat', 'Umer', 'e', 'm']"
      ]
     },
     "execution_count": 84,
     "metadata": {},
     "output_type": "execute_result"
    }
   ],
   "source": [
    "Students"
   ]
  },
  {
   "cell_type": "code",
   "execution_count": 85,
   "id": "96a2838e-6e13-45c9-819b-727fd0068178",
   "metadata": {},
   "outputs": [],
   "source": [
    "Students.clear()"
   ]
  },
  {
   "cell_type": "code",
   "execution_count": 89,
   "id": "44259736-d369-4d51-be8e-bbf4e15323d9",
   "metadata": {},
   "outputs": [
    {
     "data": {
      "text/plain": [
       "[]"
      ]
     },
     "execution_count": 89,
     "metadata": {},
     "output_type": "execute_result"
    }
   ],
   "source": [
    "Students"
   ]
  },
  {
   "cell_type": "code",
   "execution_count": 90,
   "id": "cf72a752-2ce2-4628-ac52-111af9bd6d33",
   "metadata": {},
   "outputs": [],
   "source": [
    "Students = ['Ahmed', 'Hashim', 'Ibad', 'Rameez', 'Shujaat', 'Umer']"
   ]
  },
  {
   "cell_type": "code",
   "execution_count": 91,
   "id": "3a09063a-eeb2-4c63-9088-39c3037ba582",
   "metadata": {},
   "outputs": [],
   "source": [
    "New_Students = Students.copy()"
   ]
  },
  {
   "cell_type": "code",
   "execution_count": 92,
   "id": "9bf448b7-dbdb-4d0d-b62d-243ba45d8e23",
   "metadata": {},
   "outputs": [
    {
     "data": {
      "text/plain": [
       "['Ahmed', 'Hashim', 'Ibad', 'Rameez', 'Shujaat', 'Umer']"
      ]
     },
     "execution_count": 92,
     "metadata": {},
     "output_type": "execute_result"
    }
   ],
   "source": [
    "New_Students"
   ]
  },
  {
   "cell_type": "code",
   "execution_count": 93,
   "id": "4034fec7-a3d2-469d-9ed7-77fc3665bac9",
   "metadata": {},
   "outputs": [
    {
     "data": {
      "text/plain": [
       "(2268939972736, 2268945324928)"
      ]
     },
     "execution_count": 93,
     "metadata": {},
     "output_type": "execute_result"
    }
   ],
   "source": [
    "id(Students), id(New_Students)"
   ]
  },
  {
   "cell_type": "code",
   "execution_count": 94,
   "id": "007962be-82fa-4e71-a343-48bd706ef72b",
   "metadata": {},
   "outputs": [],
   "source": [
    "New_Students = Students"
   ]
  },
  {
   "cell_type": "code",
   "execution_count": 95,
   "id": "707677a2-845f-4f04-a5d9-d9d86a5e7050",
   "metadata": {},
   "outputs": [],
   "source": [
    "Students.append(\"Khizer\")"
   ]
  },
  {
   "cell_type": "code",
   "execution_count": 96,
   "id": "cae343aa-d930-49f3-b24a-ab279afcc8c7",
   "metadata": {},
   "outputs": [
    {
     "data": {
      "text/plain": [
       "['Ahmed', 'Hashim', 'Ibad', 'Rameez', 'Shujaat', 'Umer', 'Khizer']"
      ]
     },
     "execution_count": 96,
     "metadata": {},
     "output_type": "execute_result"
    }
   ],
   "source": [
    "Students"
   ]
  },
  {
   "cell_type": "code",
   "execution_count": 97,
   "id": "f8948b9d-a2f1-4e27-9cae-57ba16bb0a2f",
   "metadata": {},
   "outputs": [
    {
     "data": {
      "text/plain": [
       "['Ahmed', 'Hashim', 'Ibad', 'Rameez', 'Shujaat', 'Umer', 'Khizer']"
      ]
     },
     "execution_count": 97,
     "metadata": {},
     "output_type": "execute_result"
    }
   ],
   "source": [
    "New_Students"
   ]
  },
  {
   "cell_type": "code",
   "execution_count": 99,
   "id": "8f7db145-d4dc-482d-8050-67fa2c21bba2",
   "metadata": {},
   "outputs": [
    {
     "data": {
      "text/plain": [
       "['Ahmed', 'Hashim', 'Ibad', 'Rameez']"
      ]
     },
     "execution_count": 99,
     "metadata": {},
     "output_type": "execute_result"
    }
   ],
   "source": [
    "Students[:4]"
   ]
  },
  {
   "cell_type": "code",
   "execution_count": 100,
   "id": "762c082e-c1fc-46e7-962f-530ad48eadea",
   "metadata": {},
   "outputs": [
    {
     "data": {
      "text/plain": [
       "['Khizer', 'Umer', 'Shujaat', 'Rameez', 'Ibad', 'Hashim', 'Ahmed']"
      ]
     },
     "execution_count": 100,
     "metadata": {},
     "output_type": "execute_result"
    }
   ],
   "source": [
    "New_Students[::-1\n",
    "    ]"
   ]
  },
  {
   "cell_type": "markdown",
   "id": "cf88b891-af32-4863-b5ab-81e38d567dab",
   "metadata": {},
   "source": [
    "## Different Type"
   ]
  },
  {
   "cell_type": "code",
   "execution_count": 106,
   "id": "e13ab569-51fe-48cb-866e-47d765d41a0c",
   "metadata": {},
   "outputs": [],
   "source": [
    "bio_List = [ \"Ahmed\" , 23 , True , \"Ahmed\"]"
   ]
  },
  {
   "cell_type": "code",
   "execution_count": 103,
   "id": "3031bed5-d38c-4f96-b805-8f8fb03b8c74",
   "metadata": {},
   "outputs": [],
   "source": [
    "bio_List[2] = False"
   ]
  },
  {
   "cell_type": "code",
   "execution_count": 107,
   "id": "11a2ac96-0830-43e7-a507-ee3529e7db07",
   "metadata": {},
   "outputs": [
    {
     "data": {
      "text/plain": [
       "['Ahmed', 23, True, 'Ahmed']"
      ]
     },
     "execution_count": 107,
     "metadata": {},
     "output_type": "execute_result"
    }
   ],
   "source": [
    "bio_List"
   ]
  },
  {
   "cell_type": "markdown",
   "id": "66e00423-7e35-487e-9e72-db901061f61d",
   "metadata": {},
   "source": [
    "### Tuples "
   ]
  },
  {
   "cell_type": "code",
   "execution_count": 108,
   "id": "89c89e33-0703-4f4a-90c7-a4e8e21084ba",
   "metadata": {},
   "outputs": [
    {
     "data": {
      "text/plain": [
       "{23, 'Ahmed', True}"
      ]
     },
     "execution_count": 108,
     "metadata": {},
     "output_type": "execute_result"
    }
   ],
   "source": [
    "set(bio_List)"
   ]
  },
  {
   "cell_type": "markdown",
   "id": "b9078d9d-12d3-4352-9d6b-2c8c7c97084a",
   "metadata": {},
   "source": [
    "## Set"
   ]
  },
  {
   "cell_type": "code",
   "execution_count": 111,
   "id": "90390f02-0aab-45da-ab7e-4bc7bd27e378",
   "metadata": {},
   "outputs": [],
   "source": [
    "set_a = { 'a' , 'b'}  \n",
    "set_b = { 'c' , 'd'}   \n",
    "universal_set = { 'a' , 'b' , 'c' , 'd' , 'e' , 'f' }"
   ]
  },
  {
   "cell_type": "code",
   "execution_count": 112,
   "id": "c9889bec-4593-4c6b-972c-6c3065d4e816",
   "metadata": {},
   "outputs": [
    {
     "data": {
      "text/plain": [
       "{'a', 'b'}"
      ]
     },
     "execution_count": 112,
     "metadata": {},
     "output_type": "execute_result"
    }
   ],
   "source": [
    "universal_set.intersection(set_a)"
   ]
  },
  {
   "cell_type": "code",
   "execution_count": 113,
   "id": "0aac0eab-e7ae-4601-95d5-269c93759c3e",
   "metadata": {},
   "outputs": [
    {
     "data": {
      "text/plain": [
       "{'c', 'd'}"
      ]
     },
     "execution_count": 113,
     "metadata": {},
     "output_type": "execute_result"
    }
   ],
   "source": [
    "universal_set.intersection(set_b)"
   ]
  },
  {
   "cell_type": "code",
   "execution_count": 114,
   "id": "25cfda8d-fa32-47f4-ace2-ee671d301226",
   "metadata": {},
   "outputs": [
    {
     "data": {
      "text/plain": [
       "{'c', 'd', 'e', 'f'}"
      ]
     },
     "execution_count": 114,
     "metadata": {},
     "output_type": "execute_result"
    }
   ],
   "source": [
    "universal_set.difference(set_a)"
   ]
  },
  {
   "cell_type": "markdown",
   "id": "cd408f80-db11-4d5f-9b09-83f03d049d37",
   "metadata": {},
   "source": [
    "Task: \n",
    "  - Create s student `tuple` of names and apply all methods that we learn today\n",
    "  - Create s student `set` of names and apply all methods that we learn today"
   ]
  },
  {
   "cell_type": "code",
   "execution_count": 118,
   "id": "f204134b-932c-4507-9614-34083690a0d0",
   "metadata": {},
   "outputs": [],
   "source": [
    "Name = {\"Ahmed\" , \"Ibad\"}"
   ]
  },
  {
   "cell_type": "code",
   "execution_count": 119,
   "id": "94a3354e-5d19-415d-8f70-249b184a4c7f",
   "metadata": {},
   "outputs": [
    {
     "data": {
      "text/plain": [
       "{'Ahmed', 'Ibad'}"
      ]
     },
     "execution_count": 119,
     "metadata": {},
     "output_type": "execute_result"
    }
   ],
   "source": [
    "set(Name)"
   ]
  },
  {
   "cell_type": "code",
   "execution_count": 2,
   "id": "7daac4fa-6092-470a-8b8b-9cf847930fff",
   "metadata": {},
   "outputs": [
    {
     "name": "stdout",
     "output_type": "stream",
     "text": [
      "{'cherry', 'apple', 'banana'}\n"
     ]
    }
   ],
   "source": [
    "thisset = set((\"apple\", \"banana\", \"cherry\"))\n",
    "print(thisset)"
   ]
  },
  {
   "cell_type": "code",
   "execution_count": 14,
   "id": "59a7ec8d-3964-4796-a7ed-5729a6661ee4",
   "metadata": {},
   "outputs": [
    {
     "name": "stdout",
     "output_type": "stream",
     "text": [
      "old_list [['1', '2', '3'], ['4', '5', '6'], ['7', '8', '9']]\n",
      "new_List [['1', '2', '3'], ['b', '5', 'c'], ['7', '8', '9']]\n"
     ]
    }
   ],
   "source": [
    "import copy\n",
    "\n",
    "old_list = [['1','2','3'] , ['4','5','6'] , ['7','8','9']]\n",
    "\n",
    "new_List = copy.copy(old_list)\n",
    "\n",
    "new_List[1] = ['b', '5', 'c']\n",
    "\n",
    "print(\"old_list\" , old_list)\n",
    "print(\"new_List\" , new_List)"
   ]
  },
  {
   "cell_type": "code",
   "execution_count": 18,
   "id": "d2d0e334-a26b-4358-b92c-e4c36c9ccdaa",
   "metadata": {},
   "outputs": [
    {
     "name": "stdout",
     "output_type": "stream",
     "text": [
      "old_list [['1', '2', '3'], ['4', '5', '6'], ['7', '8', '9']]\n",
      "new_List [['1', '2', '3'], [['b', '5', 'c'], '5', '6'], ['7', '8', '9']]\n"
     ]
    }
   ],
   "source": [
    "import copy\n",
    "\n",
    "old_list1 = [['1','2','3'] , ['4','5','6'] , ['7','8','9']]\n",
    "\n",
    "new_List1 = copy.deepcopy(old_list1)\n",
    "\n",
    "new_List1[1][0] = ['b', '5', 'c']\n",
    "\n",
    "print(\"old_list\" , old_list1)\n",
    "print(\"new_List\" , new_List1)"
   ]
  },
  {
   "cell_type": "code",
   "execution_count": null,
   "id": "d84aa982-fa8b-4534-ae86-a740bdedd60b",
   "metadata": {},
   "outputs": [],
   "source": []
  }
 ],
 "metadata": {
  "kernelspec": {
   "display_name": "Python 3 (ipykernel)",
   "language": "python",
   "name": "python3"
  },
  "language_info": {
   "codemirror_mode": {
    "name": "ipython",
    "version": 3
   },
   "file_extension": ".py",
   "mimetype": "text/x-python",
   "name": "python",
   "nbconvert_exporter": "python",
   "pygments_lexer": "ipython3",
   "version": "3.13.5"
  }
 },
 "nbformat": 4,
 "nbformat_minor": 5
}
