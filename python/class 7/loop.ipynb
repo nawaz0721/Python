{
 "cells": [
  {
   "cell_type": "markdown",
   "id": "eb31f4c2-7c58-4672-9eb9-fe8dd30773a8",
   "metadata": {},
   "source": [
    "Write a program that prints \"Happy Brithday\" five times on screen"
   ]
  },
  {
   "cell_type": "code",
   "execution_count": 10,
   "id": "0ada3717-e85a-43d5-8259-d8766a0d18ba",
   "metadata": {},
   "outputs": [
    {
     "name": "stdout",
     "output_type": "stream",
     "text": [
      "happy birthday\n",
      "happy birthday\n",
      "happy birthday\n",
      "happy birthday\n",
      "happy birthday\n"
     ]
    }
   ],
   "source": [
    "for temp_var in [\"happy birthday\", \"happy birthday\", \"happy birthday\", \"happy birthday\", \"happy birthday\"]:\n",
    "    print(temp_var)"
   ]
  },
  {
   "cell_type": "code",
   "execution_count": 13,
   "id": "cea40ed9-3893-40af-afc6-5cb0a9648e8d",
   "metadata": {},
   "outputs": [
    {
     "name": "stdout",
     "output_type": "stream",
     "text": [
      "Happy Birthday\n",
      "Happy Birthday\n",
      "Happy Birthday\n",
      "Happy Birthday\n",
      "Happy Birthday\n"
     ]
    }
   ],
   "source": [
    "for i in range(5):\n",
    "    print(\"Happy Birthday\")"
   ]
  },
  {
   "cell_type": "markdown",
   "id": "dee77205-41f5-4b11-9f34-45efe2dec58c",
   "metadata": {},
   "source": [
    "Write a program that takes a number n as input from the user and genrates the first n terms of the series formed by squaring the natural number"
   ]
  },
  {
   "cell_type": "code",
   "execution_count": 20,
   "id": "5ddf9599-9b47-4560-b3f4-9bdd74116c7a",
   "metadata": {},
   "outputs": [
    {
     "name": "stdin",
     "output_type": "stream",
     "text": [
      "how many times you want to wish 'Happy Birthday':  10\n"
     ]
    },
    {
     "name": "stdout",
     "output_type": "stream",
     "text": [
      "1 Happy Birthday\n",
      "2 Happy Birthday\n",
      "3 Happy Birthday\n",
      "4 Happy Birthday\n",
      "5 Happy Birthday\n",
      "6 Happy Birthday\n",
      "7 Happy Birthday\n",
      "8 Happy Birthday\n",
      "9 Happy Birthday\n",
      "10 Happy Birthday\n"
     ]
    }
   ],
   "source": [
    "number = int(input(\"how many times you want to wish 'Happy Birthday': \"))\n",
    "for temp in range(number):\n",
    "   print(temp+1, 'Happy Birthday')"
   ]
  },
  {
   "cell_type": "markdown",
   "id": "41229377-5c7f-47b6-8b74-5a7005ea2af2",
   "metadata": {},
   "source": [
    "Task: Print tables from 2 to 5 in such a way that every table print one time less than other."
   ]
  },
  {
   "cell_type": "code",
   "execution_count": 57,
   "id": "fde330b7-b931-4b0e-800e-b6428e28339c",
   "metadata": {},
   "outputs": [
    {
     "name": "stdout",
     "output_type": "stream",
     "text": [
      "2 * 1 = 2\n",
      "2 * 2 = 4\n",
      "2 * 3 = 6\n",
      "2 * 4 = 8\n",
      "2 * 5 = 10\n",
      "2 * 6 = 12\n",
      "2 * 7 = 14\n",
      "2 * 8 = 16\n",
      "2 * 9 = 18\n",
      "2 * 10 = 20\n",
      "-----\n",
      "3 * 1 = 3\n",
      "3 * 2 = 6\n",
      "3 * 3 = 9\n",
      "3 * 4 = 12\n",
      "3 * 5 = 15\n",
      "3 * 6 = 18\n",
      "3 * 7 = 21\n",
      "3 * 8 = 24\n",
      "3 * 9 = 27\n",
      "-----\n",
      "4 * 1 = 4\n",
      "4 * 2 = 8\n",
      "4 * 3 = 12\n",
      "4 * 4 = 16\n",
      "4 * 5 = 20\n",
      "4 * 6 = 24\n",
      "4 * 7 = 28\n",
      "4 * 8 = 32\n",
      "-----\n",
      "5 * 1 = 5\n",
      "5 * 2 = 10\n",
      "5 * 3 = 15\n",
      "5 * 4 = 20\n",
      "5 * 5 = 25\n",
      "5 * 6 = 30\n",
      "5 * 7 = 35\n",
      "-----\n"
     ]
    }
   ],
   "source": [
    "# num = 11\n",
    "\n",
    "# for x in range(2, 6):\n",
    "#    for y in range(1,num):\n",
    "#        print(f\"{x} * {y} = {x*y}\")\n",
    "#     num -= 1\n",
    "#     print(f\"-----\")\n",
    "\n",
    "\n",
    "num = 11\n",
    "\n",
    "for x in range(2,6):\n",
    "    for y in range(1, num):\n",
    "        print(f\"{x} * {y} = {x*y}\")\n",
    "    num -= 1            # decrease after finishing a table\n",
    "    print(f\"-----\")      # separator after each table\n"
   ]
  },
  {
   "cell_type": "markdown",
   "id": "26869032-2875-4e31-bd0f-ef8662a764e1",
   "metadata": {},
   "source": [
    "Dictionaries: "
   ]
  },
  {
   "cell_type": "markdown",
   "id": "9d29e332-0646-400e-920c-3405c1d3ac18",
   "metadata": {},
   "source": [
    "{'f_name': 'Ahmed',\n",
    " 'l_name': 'Gondal',\n",
    " 'age':  23,\n",
    " 'weight': 50,\n",
    " 'is_present': True}\n",
    "\n",
    ".pop()\n",
    ".popitems()"
   ]
  },
  {
   "cell_type": "code",
   "execution_count": 59,
   "id": "d8ff7c69-9aec-46f9-a769-036d72a3f3f7",
   "metadata": {},
   "outputs": [
    {
     "data": {
      "text/plain": [
       "'Ahmed'"
      ]
     },
     "execution_count": 59,
     "metadata": {},
     "output_type": "execute_result"
    }
   ],
   "source": [
    "bio_data = {'f_name': 'Ahmed', \n",
    "            'l_name': 'Gondal',\n",
    "            'age': 23,\n",
    "            'weight': 50,\n",
    "            'is_present': True}\n",
    "\n",
    "bio_data.pop('f_name')"
   ]
  },
  {
   "cell_type": "code",
   "execution_count": 60,
   "id": "1a94b271-f599-4a40-90df-fe94ad495598",
   "metadata": {},
   "outputs": [
    {
     "data": {
      "text/plain": [
       "{'l_name': 'Gondal', 'age': 23, 'weight': 50, 'is_present': True}"
      ]
     },
     "execution_count": 60,
     "metadata": {},
     "output_type": "execute_result"
    }
   ],
   "source": [
    "bio_data"
   ]
  },
  {
   "cell_type": "code",
   "execution_count": 82,
   "id": "95fa706f-6f95-4645-9e22-5316bc044c24",
   "metadata": {},
   "outputs": [
    {
     "name": "stdout",
     "output_type": "stream",
     "text": [
      "('mid_name', None)\n"
     ]
    }
   ],
   "source": [
    "items = bio_data.popitem()\n",
    "print(items)"
   ]
  },
  {
   "cell_type": "code",
   "execution_count": 65,
   "id": "169b926b-0c0c-40cf-8960-16c4d2ad80cf",
   "metadata": {},
   "outputs": [
    {
     "data": {
      "text/plain": [
       "{'l_name': 'Gondal', 'age': 23, 'weight': 50, 'is_present': True}"
      ]
     },
     "execution_count": 65,
     "metadata": {},
     "output_type": "execute_result"
    }
   ],
   "source": [
    "bio_data"
   ]
  },
  {
   "cell_type": "code",
   "execution_count": 69,
   "id": "eb8b3c3a-5b40-41fa-aaa6-86369eb1135a",
   "metadata": {},
   "outputs": [
    {
     "data": {
      "text/plain": [
       "{'l_name': 'Gondal', 'age': 23, 'weight': 50, 'is_present': True}"
      ]
     },
     "execution_count": 69,
     "metadata": {},
     "output_type": "execute_result"
    }
   ],
   "source": [
    "bio_data"
   ]
  },
  {
   "cell_type": "code",
   "execution_count": 70,
   "id": "1e345d48-7347-4b79-bac5-bee52b7bf363",
   "metadata": {},
   "outputs": [
    {
     "data": {
      "text/plain": [
       "('is_present', True)"
      ]
     },
     "execution_count": 70,
     "metadata": {},
     "output_type": "execute_result"
    }
   ],
   "source": [
    "bio_data.popitem()"
   ]
  },
  {
   "cell_type": "code",
   "execution_count": 71,
   "id": "bb85c3ce-a042-49fa-a9fe-979f45dc3894",
   "metadata": {},
   "outputs": [
    {
     "data": {
      "text/plain": [
       "{'l_name': 'Gondal', 'age': 23, 'weight': 50}"
      ]
     },
     "execution_count": 71,
     "metadata": {},
     "output_type": "execute_result"
    }
   ],
   "source": [
    "bio_data"
   ]
  },
  {
   "cell_type": "code",
   "execution_count": 75,
   "id": "0c6ffeaa-07c0-4f0f-bb34-2282166eba0c",
   "metadata": {},
   "outputs": [
    {
     "data": {
      "text/plain": [
       "50"
      ]
     },
     "execution_count": 75,
     "metadata": {},
     "output_type": "execute_result"
    }
   ],
   "source": [
    "bio_data.setdefault('abc', 50)"
   ]
  },
  {
   "cell_type": "code",
   "execution_count": 76,
   "id": "7367f98e-8177-4d11-a5a7-398c064c3e7e",
   "metadata": {},
   "outputs": [
    {
     "data": {
      "text/plain": [
       "{'l_name': 'Gondal', 'age': 23, 'weight': 50, 'abc': 50}"
      ]
     },
     "execution_count": 76,
     "metadata": {},
     "output_type": "execute_result"
    }
   ],
   "source": [
    "bio_data"
   ]
  },
  {
   "cell_type": "code",
   "execution_count": 77,
   "id": "2d3d52bd-38ed-4a3b-94ea-493dfa90da62",
   "metadata": {},
   "outputs": [],
   "source": [
    "bio_data.setdefault('mid_name')"
   ]
  },
  {
   "cell_type": "code",
   "execution_count": 78,
   "id": "af322504-1071-48c7-88ef-a99b2d1260a9",
   "metadata": {},
   "outputs": [
    {
     "data": {
      "text/plain": [
       "{'l_name': 'Gondal', 'age': 23, 'weight': 50, 'abc': 50, 'mid_name': None}"
      ]
     },
     "execution_count": 78,
     "metadata": {},
     "output_type": "execute_result"
    }
   ],
   "source": [
    "bio_data"
   ]
  },
  {
   "cell_type": "code",
   "execution_count": 79,
   "id": "525289b2-86d2-485f-91b8-dbed87693465",
   "metadata": {},
   "outputs": [],
   "source": [
    "bio_data.setdefault('mid_name' , \"nawaz\")"
   ]
  },
  {
   "cell_type": "code",
   "execution_count": 80,
   "id": "b7750c0a-3765-458d-b94c-fb39f2e57436",
   "metadata": {},
   "outputs": [
    {
     "data": {
      "text/plain": [
       "{'l_name': 'Gondal', 'age': 23, 'weight': 50, 'abc': 50, 'mid_name': None}"
      ]
     },
     "execution_count": 80,
     "metadata": {},
     "output_type": "execute_result"
    }
   ],
   "source": [
    "bio_data"
   ]
  },
  {
   "cell_type": "code",
   "execution_count": 85,
   "id": "de2b1ab3-77cd-4410-adc2-802e83b99385",
   "metadata": {},
   "outputs": [
    {
     "data": {
      "text/plain": [
       "{'l_name': 'Gondal', 'age': 23, 'weight': 50, 'abc': 50}"
      ]
     },
     "execution_count": 85,
     "metadata": {},
     "output_type": "execute_result"
    }
   ],
   "source": [
    "bio_data"
   ]
  },
  {
   "cell_type": "code",
   "execution_count": 86,
   "id": "16562881-f4b2-4b40-a598-f412f0c0da39",
   "metadata": {},
   "outputs": [
    {
     "data": {
      "text/plain": [
       "'nawaz'"
      ]
     },
     "execution_count": 86,
     "metadata": {},
     "output_type": "execute_result"
    }
   ],
   "source": [
    "bio_data.setdefault('mid_name' , \"nawaz\")"
   ]
  },
  {
   "cell_type": "code",
   "execution_count": 87,
   "id": "e00f28a8-1c55-49d7-a452-fb07300f14ea",
   "metadata": {},
   "outputs": [
    {
     "data": {
      "text/plain": [
       "{'l_name': 'Gondal', 'age': 23, 'weight': 50, 'abc': 50, 'mid_name': 'nawaz'}"
      ]
     },
     "execution_count": 87,
     "metadata": {},
     "output_type": "execute_result"
    }
   ],
   "source": [
    "bio_data"
   ]
  },
  {
   "cell_type": "markdown",
   "id": "cca2ca75-ff81-40b8-8b3b-dd67bf3c5a18",
   "metadata": {},
   "source": [
    "### List/Dictiionary Comprehension"
   ]
  },
  {
   "cell_type": "code",
   "execution_count": 89,
   "id": "26db6ee9-0f20-44e7-af1e-5fc3d4812b37",
   "metadata": {},
   "outputs": [],
   "source": [
    "list = []\n",
    "for temp in range(10):\n",
    "    list.append(temp)"
   ]
  },
  {
   "cell_type": "code",
   "execution_count": 90,
   "id": "1c2fae5b-fea6-4614-9dc5-499816a6fced",
   "metadata": {},
   "outputs": [
    {
     "data": {
      "text/plain": [
       "[0, 1, 2, 3, 4, 5, 6, 7, 8, 9]"
      ]
     },
     "execution_count": 90,
     "metadata": {},
     "output_type": "execute_result"
    }
   ],
   "source": [
    "list"
   ]
  },
  {
   "cell_type": "code",
   "execution_count": null,
   "id": "db65f1c2-eb9f-4d7d-a702-f5b318211b7c",
   "metadata": {},
   "outputs": [],
   "source": []
  }
 ],
 "metadata": {
  "kernelspec": {
   "display_name": "Python 3 (ipykernel)",
   "language": "python",
   "name": "python3"
  },
  "language_info": {
   "codemirror_mode": {
    "name": "ipython",
    "version": 3
   },
   "file_extension": ".py",
   "mimetype": "text/x-python",
   "name": "python",
   "nbconvert_exporter": "python",
   "pygments_lexer": "ipython3",
   "version": "3.13.5"
  }
 },
 "nbformat": 4,
 "nbformat_minor": 5
}
